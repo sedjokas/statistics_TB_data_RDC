{
 "cells": [
  {
   "cell_type": "markdown",
   "metadata": {},
   "source": [
    "# NEW CASE"
   ]
  },
  {
   "cell_type": "code",
   "execution_count": 1,
   "metadata": {},
   "outputs": [],
   "source": [
    "#import libraries\n",
    "import numpy as np\n",
    "import pandas as pd\n",
    "import matplotlib.pyplot as plt\n",
    "from pandas import ExcelWriter\n",
    "from pandas import ExcelFile\n",
    "#import statsmodels.api as  sm\n",
    "#import statsmodels.stats.weightstats as stat\n",
    "#from statsmodels.formula.api import ols\n",
    "import scipy as sp\n",
    "from scipy import stats as stat"
   ]
  },
  {
   "cell_type": "code",
   "execution_count": 2,
   "metadata": {},
   "outputs": [
    {
     "data": {
      "text/plain": [
       "(12, 12)"
      ]
     },
     "execution_count": 2,
     "metadata": {},
     "output_type": "execute_result"
    }
   ],
   "source": [
    "dataNc = pd.read_excel('DataNouveauCas.xlsx' , sep = '\\t')\n",
    "dataNc.shape"
   ]
  },
  {
   "cell_type": "code",
   "execution_count": 9,
   "metadata": {},
   "outputs": [
    {
     "data": {
      "text/html": [
       "<div>\n",
       "<style scoped>\n",
       "    .dataframe tbody tr th:only-of-type {\n",
       "        vertical-align: middle;\n",
       "    }\n",
       "\n",
       "    .dataframe tbody tr th {\n",
       "        vertical-align: top;\n",
       "    }\n",
       "\n",
       "    .dataframe thead th {\n",
       "        text-align: right;\n",
       "    }\n",
       "</style>\n",
       "<table border=\"1\" class=\"dataframe\">\n",
       "  <thead>\n",
       "    <tr style=\"text-align: right;\">\n",
       "      <th></th>\n",
       "      <th>ZS</th>\n",
       "      <th>NC7</th>\n",
       "      <th>NC8</th>\n",
       "      <th>NC9</th>\n",
       "      <th>NC10</th>\n",
       "      <th>NC11</th>\n",
       "      <th>NC12</th>\n",
       "      <th>NC13</th>\n",
       "      <th>NC14</th>\n",
       "      <th>NC15</th>\n",
       "      <th>NC16</th>\n",
       "      <th>NC17</th>\n",
       "    </tr>\n",
       "  </thead>\n",
       "  <tbody>\n",
       "    <tr>\n",
       "      <th>0</th>\n",
       "      <td>BAS CONGO</td>\n",
       "      <td>3304</td>\n",
       "      <td>3225</td>\n",
       "      <td>3327</td>\n",
       "      <td>3231</td>\n",
       "      <td>3135</td>\n",
       "      <td>3183</td>\n",
       "      <td>2944</td>\n",
       "      <td>2848</td>\n",
       "      <td>2892</td>\n",
       "      <td>30</td>\n",
       "      <td>3144</td>\n",
       "    </tr>\n",
       "    <tr>\n",
       "      <th>1</th>\n",
       "      <td>BANDUNDU</td>\n",
       "      <td>5969</td>\n",
       "      <td>7056</td>\n",
       "      <td>6258</td>\n",
       "      <td>8314</td>\n",
       "      <td>7860</td>\n",
       "      <td>7631</td>\n",
       "      <td>7867</td>\n",
       "      <td>8921</td>\n",
       "      <td>8882</td>\n",
       "      <td>8993</td>\n",
       "      <td>9754</td>\n",
       "    </tr>\n",
       "    <tr>\n",
       "      <th>2</th>\n",
       "      <td>KONGO CENTRAL</td>\n",
       "      <td>3304</td>\n",
       "      <td>3225</td>\n",
       "      <td>3327</td>\n",
       "      <td>3231</td>\n",
       "      <td>3135</td>\n",
       "      <td>3183</td>\n",
       "      <td>2944</td>\n",
       "      <td>2848</td>\n",
       "      <td>2892</td>\n",
       "      <td>3070</td>\n",
       "      <td>3144</td>\n",
       "    </tr>\n",
       "    <tr>\n",
       "      <th>3</th>\n",
       "      <td>EQUATEUR</td>\n",
       "      <td>5523</td>\n",
       "      <td>5583</td>\n",
       "      <td>6007</td>\n",
       "      <td>6314</td>\n",
       "      <td>6781</td>\n",
       "      <td>6031</td>\n",
       "      <td>6124</td>\n",
       "      <td>7430</td>\n",
       "      <td>6288</td>\n",
       "      <td>7420</td>\n",
       "      <td>10590</td>\n",
       "    </tr>\n",
       "    <tr>\n",
       "      <th>4</th>\n",
       "      <td>KASAI OCCIDENTAL</td>\n",
       "      <td>6008</td>\n",
       "      <td>7011</td>\n",
       "      <td>7815</td>\n",
       "      <td>7960</td>\n",
       "      <td>8470</td>\n",
       "      <td>8565</td>\n",
       "      <td>8087</td>\n",
       "      <td>7259</td>\n",
       "      <td>7506</td>\n",
       "      <td>8030</td>\n",
       "      <td>7825</td>\n",
       "    </tr>\n",
       "    <tr>\n",
       "      <th>5</th>\n",
       "      <td>KASAI ORIENTAL</td>\n",
       "      <td>7641</td>\n",
       "      <td>7961</td>\n",
       "      <td>7671</td>\n",
       "      <td>9367</td>\n",
       "      <td>7472</td>\n",
       "      <td>7915</td>\n",
       "      <td>8131</td>\n",
       "      <td>8087</td>\n",
       "      <td>8771</td>\n",
       "      <td>9800</td>\n",
       "      <td>11614</td>\n",
       "    </tr>\n",
       "    <tr>\n",
       "      <th>6</th>\n",
       "      <td>KATANGA</td>\n",
       "      <td>14124</td>\n",
       "      <td>14786</td>\n",
       "      <td>16915</td>\n",
       "      <td>13089</td>\n",
       "      <td>13021</td>\n",
       "      <td>12256</td>\n",
       "      <td>13875</td>\n",
       "      <td>13904</td>\n",
       "      <td>14242</td>\n",
       "      <td>14690</td>\n",
       "      <td>16539</td>\n",
       "    </tr>\n",
       "    <tr>\n",
       "      <th>7</th>\n",
       "      <td>KINSHASA</td>\n",
       "      <td>9147</td>\n",
       "      <td>9531</td>\n",
       "      <td>9306</td>\n",
       "      <td>9274</td>\n",
       "      <td>8807</td>\n",
       "      <td>9119</td>\n",
       "      <td>8887</td>\n",
       "      <td>9433</td>\n",
       "      <td>9730</td>\n",
       "      <td>10146</td>\n",
       "      <td>11126</td>\n",
       "    </tr>\n",
       "    <tr>\n",
       "      <th>8</th>\n",
       "      <td>MANIEMA</td>\n",
       "      <td>2540</td>\n",
       "      <td>2399</td>\n",
       "      <td>2631</td>\n",
       "      <td>2495</td>\n",
       "      <td>2284</td>\n",
       "      <td>2295</td>\n",
       "      <td>2197</td>\n",
       "      <td>2398</td>\n",
       "      <td>2108</td>\n",
       "      <td>2218</td>\n",
       "      <td>2564</td>\n",
       "    </tr>\n",
       "    <tr>\n",
       "      <th>9</th>\n",
       "      <td>NORD KIVU</td>\n",
       "      <td>2699</td>\n",
       "      <td>2809</td>\n",
       "      <td>3155</td>\n",
       "      <td>3014</td>\n",
       "      <td>2963</td>\n",
       "      <td>3062</td>\n",
       "      <td>3055</td>\n",
       "      <td>3053</td>\n",
       "      <td>3331</td>\n",
       "      <td>3885</td>\n",
       "      <td>4441</td>\n",
       "    </tr>\n",
       "    <tr>\n",
       "      <th>10</th>\n",
       "      <td>SUD KIVU</td>\n",
       "      <td>2370</td>\n",
       "      <td>2426</td>\n",
       "      <td>2461</td>\n",
       "      <td>2471</td>\n",
       "      <td>3099</td>\n",
       "      <td>3429</td>\n",
       "      <td>2803</td>\n",
       "      <td>3301</td>\n",
       "      <td>3482</td>\n",
       "      <td>3758</td>\n",
       "      <td>4320</td>\n",
       "    </tr>\n",
       "    <tr>\n",
       "      <th>11</th>\n",
       "      <td>PROVINCE ORIENTAL</td>\n",
       "      <td>6774</td>\n",
       "      <td>6778</td>\n",
       "      <td>7645</td>\n",
       "      <td>8124</td>\n",
       "      <td>7429</td>\n",
       "      <td>7638</td>\n",
       "      <td>7556</td>\n",
       "      <td>8997</td>\n",
       "      <td>9439</td>\n",
       "      <td>10377</td>\n",
       "      <td>11638</td>\n",
       "    </tr>\n",
       "  </tbody>\n",
       "</table>\n",
       "</div>"
      ],
      "text/plain": [
       "                   ZS    NC7    NC8    NC9   NC10   NC11   NC12   NC13   NC14  \\\n",
       "0           BAS CONGO   3304   3225   3327   3231   3135   3183   2944   2848   \n",
       "1            BANDUNDU   5969   7056   6258   8314   7860   7631   7867   8921   \n",
       "2       KONGO CENTRAL   3304   3225   3327   3231   3135   3183   2944   2848   \n",
       "3            EQUATEUR   5523   5583   6007   6314   6781   6031   6124   7430   \n",
       "4    KASAI OCCIDENTAL   6008   7011   7815   7960   8470   8565   8087   7259   \n",
       "5      KASAI ORIENTAL   7641   7961   7671   9367   7472   7915   8131   8087   \n",
       "6             KATANGA  14124  14786  16915  13089  13021  12256  13875  13904   \n",
       "7            KINSHASA   9147   9531   9306   9274   8807   9119   8887   9433   \n",
       "8             MANIEMA   2540   2399   2631   2495   2284   2295   2197   2398   \n",
       "9           NORD KIVU   2699   2809   3155   3014   2963   3062   3055   3053   \n",
       "10           SUD KIVU   2370   2426   2461   2471   3099   3429   2803   3301   \n",
       "11  PROVINCE ORIENTAL   6774   6778   7645   8124   7429   7638   7556   8997   \n",
       "\n",
       "     NC15   NC16   NC17  \n",
       "0    2892     30   3144  \n",
       "1    8882   8993   9754  \n",
       "2    2892   3070   3144  \n",
       "3    6288   7420  10590  \n",
       "4    7506   8030   7825  \n",
       "5    8771   9800  11614  \n",
       "6   14242  14690  16539  \n",
       "7    9730  10146  11126  \n",
       "8    2108   2218   2564  \n",
       "9    3331   3885   4441  \n",
       "10   3482   3758   4320  \n",
       "11   9439  10377  11638  "
      ]
     },
     "execution_count": 9,
     "metadata": {},
     "output_type": "execute_result"
    }
   ],
   "source": [
    "dataNc.head()\n",
    "dataNc"
   ]
  },
  {
   "cell_type": "raw",
   "metadata": {},
   "source": [
    "Year, average"
   ]
  },
  {
   "cell_type": "markdown",
   "metadata": {},
   "source": [
    "In this section we show the average of new cases per year and present the year that has had more new cases."
   ]
  },
  {
   "cell_type": "code",
   "execution_count": 4,
   "metadata": {},
   "outputs": [
    {
     "name": "stdout",
     "output_type": "stream",
     "text": [
      "('Year', '2017', ' the highest average of new case is : ', 8058.25)\n"
     ]
    }
   ],
   "source": [
    "#Declaration and initialization of variables\n",
    "\n",
    "moyenne=0\n",
    "annee=0\n",
    "c=0\n",
    "tabMoy = []\n",
    "tabAnn = [] \n",
    "\n",
    "#Method to display the years\n",
    "def monAnne(year):\n",
    "    an = year[2:len(year)]\n",
    "    if int(an)<10:\n",
    "        an=\"200\" + an\n",
    "        \n",
    "    else:\n",
    "        an=\"20\"+an\n",
    "    return an\n",
    "\n",
    "#Loop allowing to browse the columns and calculate the average for each year.\n",
    "for i in dataNc.columns:\n",
    "    if i=='ZS':            #if the column is that of Health zone or province\n",
    "        moyenne=moyenne\n",
    "    else:\n",
    "        b=dataNc[i].mean()\n",
    "        tabAnn.append(monAnne(i))\n",
    "        tabMoy.append(b)\n",
    "        if b>moyenne:\n",
    "            moyenne=b\n",
    "            annee=i\n",
    "    c+=1\n",
    "\n",
    "#display\n",
    "print(\"Year\", monAnne(annee), \" the highest average of new case is : \",moyenne)\n",
    "\n",
    "#print(tabMoy)\n",
    "#print(tabAnn)"
   ]
  },
  {
   "cell_type": "code",
   "execution_count": 5,
   "metadata": {},
   "outputs": [
    {
     "data": {
      "text/plain": [
       "(11, 2)"
      ]
     },
     "execution_count": 5,
     "metadata": {},
     "output_type": "execute_result"
    }
   ],
   "source": [
    "#joint table of the year and its case average\n",
    "tab=[tabAnn,tabMoy]\n",
    "\n",
    "#transformation of this table into dataframe plus transpose\n",
    "df=pd.DataFrame(tab).T\n",
    "df.shape"
   ]
  },
  {
   "cell_type": "code",
   "execution_count": 6,
   "metadata": {},
   "outputs": [
    {
     "name": "stdout",
     "output_type": "stream",
     "text": [
      "    Year  Average\n",
      "0   2007  5783.58\n",
      "1   2008  6065.83\n",
      "2   2009   6376.5\n",
      "3   2010     6407\n",
      "4   2011  6204.67\n",
      "5   2012  6192.25\n",
      "6   2013  6205.83\n",
      "7   2014  6539.92\n",
      "8   2015  6630.25\n",
      "9   2016  6868.08\n",
      "10  2017  8058.25\n"
     ]
    }
   ],
   "source": [
    "#nomenclature of columns\n",
    "df=df.rename(columns={0:'Year',1:'Average'})\n",
    "print(df)"
   ]
  },
  {
   "cell_type": "code",
   "execution_count": 7,
   "metadata": {},
   "outputs": [
    {
     "data": {
      "text/plain": [
       "<matplotlib.axes.AxesSubplot at 0x10a415c10>"
      ]
     },
     "execution_count": 7,
     "metadata": {},
     "output_type": "execute_result"
    }
   ],
   "source": [
    "df.plot(x=0, y=1)"
   ]
  },
  {
   "cell_type": "code",
   "execution_count": 8,
   "metadata": {},
   "outputs": [],
   "source": [
    "#bar graph of years based on averages\n",
    "c=df.plot(x=0, y=1, kind='bar')\n",
    "plt.xlabel('Year')\n",
    "plt.ylabel('Average')\n",
    "plt.show()\n",
    "\n",
    "fig = c.get_figure()\n",
    "fig.tight_layout()\n",
    "fig.savefig(\"PhotoMoyNC.png\" )\n"
   ]
  },
  {
   "cell_type": "raw",
   "metadata": {},
   "source": [
    "Year, Maximum and Province"
   ]
  },
  {
   "cell_type": "markdown",
   "metadata": {},
   "source": [
    "This section we show which province has had many new cases. this for each year."
   ]
  },
  {
   "cell_type": "code",
   "execution_count": 9,
   "metadata": {},
   "outputs": [
    {
     "name": "stdout",
     "output_type": "stream",
     "text": [
      "('Year: ', '2016', ' Max: ', 14690, ' Province: ', u'KATANGA')\n",
      " \n",
      "('Year: ', '2007', ' Max: ', 14124, ' Province: ', u'KATANGA')\n",
      " \n",
      "('Year: ', '2017', ' Max: ', 16539, ' Province: ', u'KATANGA')\n",
      " \n",
      "('Year: ', '2015', ' Max: ', 14242, ' Province: ', u'KATANGA')\n",
      " \n",
      "('Year: ', '2014', ' Max: ', 13904, ' Province: ', u'KATANGA')\n",
      " \n",
      "('Year: ', '2008', ' Max: ', 14786, ' Province: ', u'KATANGA')\n",
      " \n",
      "('Year: ', '2009', ' Max: ', 16915, ' Province: ', u'KATANGA')\n",
      " \n",
      "('Year: ', '2011', ' Max: ', 13021, ' Province: ', u'KATANGA')\n",
      " \n",
      "('Year: ', '2010', ' Max: ', 13089, ' Province: ', u'KATANGA')\n",
      " \n",
      "('Year: ', '2013', ' Max: ', 13875, ' Province: ', u'KATANGA')\n",
      " \n",
      "('Year: ', '2012', ' Max: ', 12256, ' Province: ', u'KATANGA')\n",
      " \n"
     ]
    }
   ],
   "source": [
    "#Declaration and initialization of variables\n",
    "maximum=0\n",
    "annee=0\n",
    "tabMoy = []\n",
    "tabAnn = [] \n",
    "MaxProv = dict()\n",
    "\n",
    "#Method to display the years\n",
    "def monAnne(year):\n",
    "    an = year[2:len(year)]\n",
    "    if int(an)<10:\n",
    "        an=\"200\" + an\n",
    "        \n",
    "    else:\n",
    "        an=\"20\"+an\n",
    "    return an\n",
    "\n",
    "for i in dataNc.columns:\n",
    "    if i=='ZS':\n",
    "        maximum=maximum\n",
    "    else:\n",
    "        b=dataNc[i].max()\n",
    "        #print(b)\n",
    "        provIndex=list(dataNc[i]).index(b)\n",
    "        #print(list(dataNc[i]))\n",
    "        \n",
    "        province=dataNc.ZS[provIndex]\n",
    "        #print(provIndex)\n",
    "        \n",
    "        MaxProv[monAnne(i)]=[b,province]\n",
    "        \n",
    "#display\n",
    "for key in MaxProv.keys():\n",
    "    print('Year: ',key, ' Max: ', MaxProv[key][0], 'Province: ' , MaxProv[key][1])\n",
    "    print(\" \")\n",
    "    \n",
    "#print(MaxProv)\n",
    "#print(\"La moyenne la plus élevée est de \",moyenne, \"de l'année \", monAnne(annee))\n",
    "\n"
   ]
  },
  {
   "cell_type": "code",
   "execution_count": null,
   "metadata": {},
   "outputs": [],
   "source": []
  },
  {
   "cell_type": "code",
   "execution_count": null,
   "metadata": {},
   "outputs": [],
   "source": []
  }
 ],
 "metadata": {
  "kernelspec": {
   "display_name": "Python 2",
   "language": "python",
   "name": "python2"
  },
  "language_info": {
   "codemirror_mode": {
    "name": "ipython",
    "version": 2
   },
   "file_extension": ".py",
   "mimetype": "text/x-python",
   "name": "python",
   "nbconvert_exporter": "python",
   "pygments_lexer": "ipython2",
   "version": "2.7.10"
  }
 },
 "nbformat": 4,
 "nbformat_minor": 2
}
