{
 "cells": [
  {
   "cell_type": "markdown",
   "metadata": {},
   "source": [
    "# SEXE-YEAR & TRACK OF AGE"
   ]
  },
  {
   "cell_type": "code",
   "execution_count": null,
   "metadata": {},
   "outputs": [],
   "source": [
    "#import libraries\n",
    "\n",
    "import numpy as np\n",
    "import pandas as pd\n",
    "import matplotlib.pyplot as plt\n",
    "from pandas import ExcelWriter\n",
    "from pandas import ExcelFile\n",
    "#import statsmodels.api as  sm\n",
    "#import statsmodels.stats.weightstats as stat\n",
    "#from statsmodels.formula.api import ols\n",
    "import scipy as sp\n",
    "from scipy import stats as stat"
   ]
  },
  {
   "cell_type": "markdown",
   "metadata": {},
   "source": [
    "# Sexe-Year"
   ]
  },
  {
   "cell_type": "code",
   "execution_count": null,
   "metadata": {},
   "outputs": [],
   "source": [
    "dataSexAg = pd.read_excel('DataSexeAnnee.xlsx' , sep = '\\t')\n",
    "dataSexAg.shape"
   ]
  },
  {
   "cell_type": "code",
   "execution_count": null,
   "metadata": {},
   "outputs": [],
   "source": [
    "dataSexAg"
   ]
  },
  {
   "cell_type": "code",
   "execution_count": null,
   "metadata": {},
   "outputs": [],
   "source": [
    "moyenne=0\n",
    "for i in dataSexAg.columns:\n",
    "    if i=='Annee':\n",
    "        moyenne=moyenne\n",
    "    elif i=='Femme':\n",
    "        moyenne=moyenne\n",
    "    else:\n",
    "        mynH=dataSexAg[i].mean()\n",
    "        print(\"La moyenne des cas chez les Hommes de 2007 à 2017 est de \", mynH,\".\")\n",
    "print(\" \")\n",
    "for i in dataSexAg.columns:\n",
    "    if i=='Annee':\n",
    "        maximum=maximum\n",
    "    elif i=='Homme':\n",
    "        maximum=maximum\n",
    "    else:\n",
    "        mynF=dataSexAg[i].mean()\n",
    "        print(\"La moyenne des cas chez les Femmes de 2007 à 2017 est de \", mynF,\".\")  \n",
    "        "
   ]
  },
  {
   "cell_type": "code",
   "execution_count": null,
   "metadata": {},
   "outputs": [],
   "source": [
    "maximum=0\n",
    "for i in dataSexAg.columns:\n",
    "    if i=='Annee':\n",
    "        maximum=maximum\n",
    "    elif i=='Femme':\n",
    "        maximum=maximum\n",
    "    else:\n",
    "        b=dataSexAg[i].max()\n",
    "        \n",
    "        AnnIndex=list(dataSexAg[i]).index(b)\n",
    "        \n",
    "        annee=dataSexAg.Annee[AnnIndex]\n",
    "        print(\"l'année \",annee, \" presente \", b, \" cas des Hommes qui est le maximum depuis 2007\")\n",
    "print(\" \")\n",
    "for i in dataSexAg.columns:\n",
    "    if i=='Annee':\n",
    "        maximum=maximum\n",
    "    elif i=='Homme':\n",
    "        maximum=maximum\n",
    "    else:\n",
    "        c=dataSexAg[i].max()\n",
    "      \n",
    "        AnnIndex=list(dataSexAg[i]).index(c)\n",
    "        \n",
    "        annee=dataSexAg.Annee[AnnIndex]\n",
    "        print(\"l'année \",annee, \" presente \", c, \" cas des Femmes qui est le maximum depuis 2007\")  \n",
    "        "
   ]
  },
  {
   "cell_type": "raw",
   "metadata": {},
   "source": [
    "Comparaison des maximum des cas de 2007 à 2017 par le diagramme de cercle"
   ]
  },
  {
   "cell_type": "code",
   "execution_count": null,
   "metadata": {},
   "outputs": [],
   "source": [
    "tabH=[\"Male\",b]\n",
    "tabF=[\"Female\",c]\n",
    "tabMax=[tabH,tabF]\n",
    "print(tabMax)"
   ]
  },
  {
   "cell_type": "code",
   "execution_count": null,
   "metadata": {},
   "outputs": [],
   "source": [
    "#transformation of this table into dataframe plus transpose\n",
    "df=pd.DataFrame(tabMax)\n",
    "df=df.rename(columns={0:'Sexe',1:'Maximum'})\n",
    "print(df)\n"
   ]
  },
  {
   "cell_type": "code",
   "execution_count": null,
   "metadata": {},
   "outputs": [],
   "source": [
    "#bar graph of years based on averages\n",
    "seximg=df.plot(x=0, y=1, kind='bar')\n",
    "plt.xlabel('Sexe')\n",
    "plt.ylabel('Maximum')\n",
    "plt.show()\n",
    "\n",
    "fig = seximg.get_figure()\n",
    "fig.tight_layout()\n",
    "fig.savefig(\"PhotoMaxSex.png\")"
   ]
  },
  {
   "cell_type": "markdown",
   "metadata": {},
   "source": [
    "# Track of age (TOA)"
   ]
  },
  {
   "cell_type": "code",
   "execution_count": null,
   "metadata": {},
   "outputs": [],
   "source": [
    "dataTranchAg = pd.read_excel('DataTrancheAgeAnnnee.xlsx' , sep = '\\t')\n",
    "dataTranchAg"
   ]
  },
  {
   "cell_type": "code",
   "execution_count": null,
   "metadata": {},
   "outputs": [],
   "source": [
    "#Declaration and initialization of variables\n",
    "moyenne=0\n",
    "tranche=0\n",
    "t=0\n",
    "tabMyn = []\n",
    "tabTrch = [] \n",
    "\n",
    "\n",
    "#Loop allowing to browse the columns and calculate the average for each year.\n",
    "for i in dataTranchAg.columns:\n",
    "    if i=='Annee':            #if the column is the year\n",
    "        moyenne=moyenne\n",
    "    else:\n",
    "        myn=dataTranchAg[i].mean()\n",
    "        tabMyn.append(myn)\n",
    "        \n",
    "        #tabTrch.append(dataTranchAg[i])\n",
    "        tabTrch.append(i)\n",
    "        \n",
    "        if myn>moyenne:\n",
    "            moyenne=myn\n",
    "            tranche=i\n",
    "    t+=1\n",
    "\n",
    "#display\n",
    "print(\"La tranche de:  \", tranche, \" présente la moyenne la plus élevée de 2007 à 2017 qui est de: \",moyenne)\n",
    "#print(tabMoy)\n",
    "#print(tabAnn)"
   ]
  },
  {
   "cell_type": "code",
   "execution_count": null,
   "metadata": {},
   "outputs": [],
   "source": [
    "#Track of age\n",
    "tabS=[tabTrch,tabMyn]\n",
    "\n",
    "#transformation of this table into dataframe plus transpose\n",
    "df=pd.DataFrame(tabS).T\n",
    "df.shape\n",
    "\n",
    "#nomenclature of columns\n",
    "#TOA=Track of age\n",
    "df=df.rename(columns={0:'TOA',1:'Average'})\n",
    "df.head()"
   ]
  },
  {
   "cell_type": "code",
   "execution_count": null,
   "metadata": {},
   "outputs": [],
   "source": [
    "#bar graph of years based on averages\n",
    "imgC1=df.plot(x=0, y=1)\n",
    "imgC=df.plot(x=0, y=1, kind='bar')\n",
    "plt.xlabel('Track of age')\n",
    "plt.ylabel('Average')\n",
    "plt.show()\n",
    "\n",
    "fig1 = imgC1.get_figure()\n",
    "fig1.tight_layout()\n",
    "fig1.savefig(\"PhotoMaxSex.png\")\n",
    "\n",
    "fig = imgC.get_figure()\n",
    "fig.tight_layout()\n",
    "fig.savefig(\"PhotoMoyTOA.png\")"
   ]
  },
  {
   "cell_type": "code",
   "execution_count": null,
   "metadata": {},
   "outputs": [],
   "source": []
  },
  {
   "cell_type": "code",
   "execution_count": null,
   "metadata": {},
   "outputs": [],
   "source": []
  },
  {
   "cell_type": "code",
   "execution_count": null,
   "metadata": {},
   "outputs": [],
   "source": []
  }
 ],
 "metadata": {
  "kernelspec": {
   "display_name": "Python 2",
   "language": "python",
   "name": "python2"
  },
  "language_info": {
   "codemirror_mode": {
    "name": "ipython",
    "version": 2
   },
   "file_extension": ".py",
   "mimetype": "text/x-python",
   "name": "python",
   "nbconvert_exporter": "python",
   "pygments_lexer": "ipython2",
   "version": "2.7.10"
  }
 },
 "nbformat": 4,
 "nbformat_minor": 2
}
