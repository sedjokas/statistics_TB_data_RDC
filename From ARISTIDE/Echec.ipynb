{
 "cells": [
  {
   "cell_type": "markdown",
   "metadata": {},
   "source": [
    "# FAILURE"
   ]
  },
  {
   "cell_type": "code",
   "execution_count": 1,
   "metadata": {},
   "outputs": [],
   "source": [
    "#import libraries\n",
    "import numpy as np\n",
    "import pandas as pd\n",
    "import matplotlib.pyplot as plt\n",
    "from pandas import ExcelWriter\n",
    "from pandas import ExcelFile\n",
    "#import statsmodels.api as  sm\n",
    "#import statsmodels.stats.weightstats as stat\n",
    "#from statsmodels.formula.api import ols\n",
    "import scipy as sp\n",
    "from scipy import stats as stat"
   ]
  },
  {
   "cell_type": "code",
   "execution_count": 2,
   "metadata": {},
   "outputs": [
    {
     "data": {
      "text/plain": [
       "(11, 12)"
      ]
     },
     "execution_count": 2,
     "metadata": {},
     "output_type": "execute_result"
    }
   ],
   "source": [
    "dataEc = pd.read_excel('DataEchec.xlsx' , sep = '\\t')\n",
    "dataEc.shape"
   ]
  },
  {
   "cell_type": "code",
   "execution_count": 3,
   "metadata": {},
   "outputs": [
    {
     "data": {
      "text/html": [
       "<div>\n",
       "<style scoped>\n",
       "    .dataframe tbody tr th:only-of-type {\n",
       "        vertical-align: middle;\n",
       "    }\n",
       "\n",
       "    .dataframe tbody tr th {\n",
       "        vertical-align: top;\n",
       "    }\n",
       "\n",
       "    .dataframe thead th {\n",
       "        text-align: right;\n",
       "    }\n",
       "</style>\n",
       "<table border=\"1\" class=\"dataframe\">\n",
       "  <thead>\n",
       "    <tr style=\"text-align: right;\">\n",
       "      <th></th>\n",
       "      <th>ZS</th>\n",
       "      <th>EC7</th>\n",
       "      <th>EC8</th>\n",
       "      <th>EC9</th>\n",
       "      <th>EC10</th>\n",
       "      <th>EC11</th>\n",
       "      <th>EC12</th>\n",
       "      <th>EC13</th>\n",
       "      <th>EC14</th>\n",
       "      <th>EC15</th>\n",
       "      <th>EC16</th>\n",
       "      <th>EC17</th>\n",
       "    </tr>\n",
       "  </thead>\n",
       "  <tbody>\n",
       "    <tr>\n",
       "      <th>0</th>\n",
       "      <td>BANDUNDU</td>\n",
       "      <td>61</td>\n",
       "      <td>48</td>\n",
       "      <td>47</td>\n",
       "      <td>45</td>\n",
       "      <td>40</td>\n",
       "      <td>24</td>\n",
       "      <td>40</td>\n",
       "      <td>29</td>\n",
       "      <td>36</td>\n",
       "      <td>21</td>\n",
       "      <td>12</td>\n",
       "    </tr>\n",
       "    <tr>\n",
       "      <th>1</th>\n",
       "      <td>KONGO CENTRAL</td>\n",
       "      <td>55</td>\n",
       "      <td>33</td>\n",
       "      <td>50</td>\n",
       "      <td>28</td>\n",
       "      <td>23</td>\n",
       "      <td>39</td>\n",
       "      <td>34</td>\n",
       "      <td>35</td>\n",
       "      <td>37</td>\n",
       "      <td>30</td>\n",
       "      <td>17</td>\n",
       "    </tr>\n",
       "    <tr>\n",
       "      <th>2</th>\n",
       "      <td>EQUATEUR</td>\n",
       "      <td>68</td>\n",
       "      <td>45</td>\n",
       "      <td>53</td>\n",
       "      <td>47</td>\n",
       "      <td>39</td>\n",
       "      <td>52</td>\n",
       "      <td>32</td>\n",
       "      <td>28</td>\n",
       "      <td>33</td>\n",
       "      <td>22</td>\n",
       "      <td>19</td>\n",
       "    </tr>\n",
       "    <tr>\n",
       "      <th>3</th>\n",
       "      <td>KASAI OCCIDENTAL</td>\n",
       "      <td>81</td>\n",
       "      <td>50</td>\n",
       "      <td>53</td>\n",
       "      <td>34</td>\n",
       "      <td>21</td>\n",
       "      <td>23</td>\n",
       "      <td>18</td>\n",
       "      <td>15</td>\n",
       "      <td>10</td>\n",
       "      <td>5</td>\n",
       "      <td>3</td>\n",
       "    </tr>\n",
       "    <tr>\n",
       "      <th>4</th>\n",
       "      <td>KASAI ORIENTAL</td>\n",
       "      <td>115</td>\n",
       "      <td>93</td>\n",
       "      <td>108</td>\n",
       "      <td>81</td>\n",
       "      <td>60</td>\n",
       "      <td>51</td>\n",
       "      <td>54</td>\n",
       "      <td>42</td>\n",
       "      <td>42</td>\n",
       "      <td>41</td>\n",
       "      <td>34</td>\n",
       "    </tr>\n",
       "  </tbody>\n",
       "</table>\n",
       "</div>"
      ],
      "text/plain": [
       "                 ZS  EC7  EC8  EC9  EC10  EC11  EC12  EC13  EC14  EC15  EC16  \\\n",
       "0          BANDUNDU   61   48   47    45    40    24    40    29    36    21   \n",
       "1     KONGO CENTRAL   55   33   50    28    23    39    34    35    37    30   \n",
       "2          EQUATEUR   68   45   53    47    39    52    32    28    33    22   \n",
       "3  KASAI OCCIDENTAL   81   50   53    34    21    23    18    15    10     5   \n",
       "4    KASAI ORIENTAL  115   93  108    81    60    51    54    42    42    41   \n",
       "\n",
       "   EC17  \n",
       "0    12  \n",
       "1    17  \n",
       "2    19  \n",
       "3     3  \n",
       "4    34  "
      ]
     },
     "execution_count": 3,
     "metadata": {},
     "output_type": "execute_result"
    }
   ],
   "source": [
    "dataEc.head()"
   ]
  },
  {
   "cell_type": "raw",
   "metadata": {},
   "source": [
    "Year, average"
   ]
  },
  {
   "cell_type": "markdown",
   "metadata": {},
   "source": [
    "In this part we will average the cases per year and show the year that has had more cases.\n",
    "\n",
    "Note: here we do not take into account the provinces"
   ]
  },
  {
   "cell_type": "code",
   "execution_count": 1,
   "metadata": {},
   "outputs": [
    {
     "ename": "NameError",
     "evalue": "name 'dataEc' is not defined",
     "output_type": "error",
     "traceback": [
      "\u001b[0;31m---------------------------------------------------------------------------\u001b[0m",
      "\u001b[0;31mNameError\u001b[0m                                 Traceback (most recent call last)",
      "\u001b[0;32m<ipython-input-1-4b95c17a8911>\u001b[0m in \u001b[0;36m<module>\u001b[0;34m()\u001b[0m\n\u001b[1;32m     19\u001b[0m \u001b[0;34m\u001b[0m\u001b[0m\n\u001b[1;32m     20\u001b[0m \u001b[0;31m#Loop allowing to browse the columns and calculate the average for each year.\u001b[0m\u001b[0;34m\u001b[0m\u001b[0;34m\u001b[0m\u001b[0m\n\u001b[0;32m---> 21\u001b[0;31m \u001b[0;32mfor\u001b[0m \u001b[0mi\u001b[0m \u001b[0;32min\u001b[0m \u001b[0mdataEc\u001b[0m\u001b[0;34m.\u001b[0m\u001b[0mcolumns\u001b[0m\u001b[0;34m:\u001b[0m\u001b[0;34m\u001b[0m\u001b[0m\n\u001b[0m\u001b[1;32m     22\u001b[0m     \u001b[0;32mif\u001b[0m \u001b[0mi\u001b[0m\u001b[0;34m==\u001b[0m\u001b[0;34m'ZS'\u001b[0m\u001b[0;34m:\u001b[0m           \u001b[0;31m#if the column is that of Health zone or province\u001b[0m\u001b[0;34m\u001b[0m\u001b[0m\n\u001b[1;32m     23\u001b[0m         \u001b[0mmoyenne\u001b[0m\u001b[0;34m=\u001b[0m\u001b[0mmoyenne\u001b[0m\u001b[0;34m\u001b[0m\u001b[0m\n",
      "\u001b[0;31mNameError\u001b[0m: name 'dataEc' is not defined"
     ]
    }
   ],
   "source": [
    "#Declaration and initialization of variables\n",
    "\n",
    "moyenne=0\n",
    "annee=0\n",
    "c=0\n",
    "c1=0\n",
    "tabMoy = []\n",
    "tabAnn = [] \n",
    "\n",
    "#Method to display the years\n",
    "def monAnne(year):\n",
    "    an = year[2:len(year)]\n",
    "    if int(an)<10:\n",
    "        an=\"200\" + an\n",
    "        \n",
    "    else:\n",
    "        an=\"20\"+an\n",
    "    return an\n",
    "\n",
    "#Loop allowing to browse the columns and calculate the average for each year.\n",
    "for i in dataEc.columns:\n",
    "    if i=='ZS':           #if the column is that of Health zone or province\n",
    "        moyenne=moyenne\n",
    "    else:\n",
    "        b=dataEc[i].mean()\n",
    "        tabAnn.append(monAnne(i))\n",
    "        tabMoy.append(b)\n",
    "        if b>moyenne:\n",
    "            moyenne=b\n",
    "            annee=i\n",
    "    c+=1\n",
    "\n",
    "#display\n",
    "print(\"Year\", monAnne(annee), \" presents the hight average : \",moyenne)"
   ]
  },
  {
   "cell_type": "code",
   "execution_count": 5,
   "metadata": {},
   "outputs": [
    {
     "name": "stdout",
     "output_type": "stream",
     "text": [
      "    Year  Average\n",
      "0   2007  90.9091\n",
      "1   2008  71.9091\n",
      "2   2009  76.9091\n",
      "3   2010  64.8182\n",
      "4   2011  52.0909\n",
      "5   2012  54.2727\n",
      "6   2013  51.6364\n",
      "7   2014  45.8182\n",
      "8   2015       47\n",
      "9   2016       47\n",
      "10  2017  47.5455\n"
     ]
    }
   ],
   "source": [
    "#joint table of the year and its case average\n",
    "tab=[tabAnn,tabMoy]\n",
    "\n",
    "#transformation of this table into dataframe plus transpose\n",
    "df=pd.DataFrame(tab).T\n",
    "df.shape\n",
    "\n",
    "#nomenclature of columns\n",
    "df=df.rename(columns={0:'Year',1:'Average'})\n",
    "print(df)"
   ]
  },
  {
   "cell_type": "code",
   "execution_count": 6,
   "metadata": {},
   "outputs": [
    {
     "ename": "AttributeError",
     "evalue": "'AxesSubplot' object has no attribute 'tight_layout'",
     "output_type": "error",
     "traceback": [
      "\u001b[0;31m---------------------------------------------------------------------------\u001b[0m",
      "\u001b[0;31mAttributeError\u001b[0m                            Traceback (most recent call last)",
      "\u001b[0;32m<ipython-input-6-6fcec76dc440>\u001b[0m in \u001b[0;36m<module>\u001b[0;34m()\u001b[0m\n\u001b[1;32m      8\u001b[0m \u001b[0;34m\u001b[0m\u001b[0m\n\u001b[1;32m      9\u001b[0m \u001b[0mfig1\u001b[0m \u001b[0;34m=\u001b[0m \u001b[0mc1\u001b[0m\u001b[0;34m.\u001b[0m\u001b[0mget_figure\u001b[0m\u001b[0;34m(\u001b[0m\u001b[0;34m)\u001b[0m\u001b[0;34m\u001b[0m\u001b[0m\n\u001b[0;32m---> 10\u001b[0;31m \u001b[0mfig1\u001b[0m \u001b[0;34m=\u001b[0m \u001b[0mc1\u001b[0m\u001b[0;34m.\u001b[0m\u001b[0mtight_layout\u001b[0m\u001b[0;34m(\u001b[0m\u001b[0;34m)\u001b[0m\u001b[0;34m\u001b[0m\u001b[0m\n\u001b[0m\u001b[1;32m     11\u001b[0m \u001b[0mfig1\u001b[0m\u001b[0;34m.\u001b[0m\u001b[0msavefig\u001b[0m\u001b[0;34m(\u001b[0m\u001b[0;34m\"failure1.png\"\u001b[0m\u001b[0;34m)\u001b[0m\u001b[0;34m\u001b[0m\u001b[0m\n\u001b[1;32m     12\u001b[0m \u001b[0mfig\u001b[0m \u001b[0;34m=\u001b[0m \u001b[0mc\u001b[0m\u001b[0;34m.\u001b[0m\u001b[0mget_figure\u001b[0m\u001b[0;34m(\u001b[0m\u001b[0;34m)\u001b[0m\u001b[0;34m\u001b[0m\u001b[0m\n",
      "\u001b[0;31mAttributeError\u001b[0m: 'AxesSubplot' object has no attribute 'tight_layout'"
     ]
    }
   ],
   "source": [
    "#bar graph of years based on averages\n",
    "c1=df.plot(x=0, y=1)\n",
    "c=df.plot(x=0, y=1, kind='bar')\n",
    "plt.xlabel('Year')\n",
    "plt.ylabel('Average')\n",
    "plt.show()\n",
    "\n",
    "\n",
    "fig1 = c1.get_figure()\n",
    "fig1 = c1.tight_layout()\n",
    "fig1.savefig(\"failure1.png\")\n",
    "fig = c.get_figure()\n",
    "fig.tight_layout()\n",
    "fig.savefig(\"failure.png\")"
   ]
  },
  {
   "cell_type": "raw",
   "metadata": {},
   "source": [
    "Year, Maximum and Province"
   ]
  },
  {
   "cell_type": "markdown",
   "metadata": {},
   "source": [
    "This section allows you to see which province has had many cases. \n",
    "this for each year."
   ]
  },
  {
   "cell_type": "code",
   "execution_count": 13,
   "metadata": {},
   "outputs": [
    {
     "name": "stdout",
     "output_type": "stream",
     "text": [
      "Year:  2007  Max:  195  Province:  KATANGA\n",
      " \n",
      "Year:  2008  Max:  164  Province:  KINSHASA\n",
      " \n",
      "Year:  2009  Max:  160  Province:  KATANGA\n",
      " \n",
      "Year:  2010  Max:  140  Province:  KINSHASA\n",
      " \n",
      "Year:  2011  Max:  119  Province:  KATANGA\n",
      " \n",
      "Year:  2012  Max:  141  Province:  KINSHASA\n",
      " \n",
      "Year:  2013  Max:  149  Province:  KATANGA\n",
      " \n",
      "Year:  2014  Max:  132  Province:  KATANGA\n",
      " \n",
      "Year:  2015  Max:  152  Province:  KATANGA\n",
      " \n",
      "Year:  2016  Max:  145  Province:  KATANGA\n",
      " \n",
      "Year:  2017  Max:  241  Province:  KATANGA\n",
      " \n"
     ]
    }
   ],
   "source": [
    "#Declaration and initialization of variables\n",
    "\n",
    "maximum=0\n",
    "annee=0\n",
    "tabMoy = []\n",
    "tabAnn = [] \n",
    "MaxProv = dict()\n",
    "\n",
    "#Method to display the years\n",
    "def monAnne(year):\n",
    "    an = year[2:len(year)]\n",
    "    if int(an)<10:\n",
    "        an=\"200\" + an\n",
    "        \n",
    "    else:\n",
    "        an=\"20\"+an\n",
    "    return an\n",
    "\n",
    "for i in dataEc.columns:\n",
    "    if i=='ZS':\n",
    "        maximum=maximum\n",
    "    else:\n",
    "        b=dataEc[i].max()\n",
    "        #print(b)\n",
    "        provIndex=list(dataEc[i]).index(b)\n",
    "        #print(list(dataNc[i]))\n",
    "        \n",
    "        province=dataEc.ZS[provIndex]\n",
    "        #print(provIndex)\n",
    "        \n",
    "        MaxProv[monAnne(i)]=[b,province]\n",
    "        \n",
    "#display\n",
    "for key in MaxProv.keys():\n",
    "    print('Year: ',key, ' Max: ', MaxProv[key][0], ' Province: ' , MaxProv[key][1])\n",
    "    print(\" \")"
   ]
  },
  {
   "cell_type": "code",
   "execution_count": null,
   "metadata": {},
   "outputs": [],
   "source": []
  }
 ],
 "metadata": {
  "kernelspec": {
   "display_name": "Python 2",
   "language": "python",
   "name": "python2"
  },
  "language_info": {
   "codemirror_mode": {
    "name": "ipython",
    "version": 2
   },
   "file_extension": ".py",
   "mimetype": "text/x-python",
   "name": "python",
   "nbconvert_exporter": "python",
   "pygments_lexer": "ipython2",
   "version": "2.7.10"
  }
 },
 "nbformat": 4,
 "nbformat_minor": 2
}
