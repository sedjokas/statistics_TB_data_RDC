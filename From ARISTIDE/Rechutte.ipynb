{
 "cells": [
  {
   "cell_type": "markdown",
   "metadata": {},
   "source": [
    "# RECHUTTE"
   ]
  },
  {
   "cell_type": "code",
   "execution_count": 3,
   "metadata": {},
   "outputs": [],
   "source": [
    "#import libraries\n",
    "import numpy as np\n",
    "import pandas as pd\n",
    "import matplotlib.pyplot as plt\n",
    "from pandas import ExcelWriter\n",
    "from pandas import ExcelFile\n",
    "#import statsmodels.api as  sm\n",
    "#import statsmodels.stats.weightstats as stat\n",
    "#from statsmodels.formula.api import ols\n",
    "import scipy as sp\n",
    "from scipy import stats as stat"
   ]
  },
  {
   "cell_type": "code",
   "execution_count": 4,
   "metadata": {},
   "outputs": [
    {
     "data": {
      "text/plain": [
       "(11, 12)"
      ]
     },
     "execution_count": 4,
     "metadata": {},
     "output_type": "execute_result"
    }
   ],
   "source": [
    "dataRc = pd.read_excel('DataRechutte.xlsx' , sep = '\\t')\n",
    "dataRc.shape"
   ]
  },
  {
   "cell_type": "code",
   "execution_count": 5,
   "metadata": {},
   "outputs": [
    {
     "data": {
      "text/html": [
       "<div>\n",
       "<style scoped>\n",
       "    .dataframe tbody tr th:only-of-type {\n",
       "        vertical-align: middle;\n",
       "    }\n",
       "\n",
       "    .dataframe tbody tr th {\n",
       "        vertical-align: top;\n",
       "    }\n",
       "\n",
       "    .dataframe thead th {\n",
       "        text-align: right;\n",
       "    }\n",
       "</style>\n",
       "<table border=\"1\" class=\"dataframe\">\n",
       "  <thead>\n",
       "    <tr style=\"text-align: right;\">\n",
       "      <th></th>\n",
       "      <th>ZS</th>\n",
       "      <th>RC7</th>\n",
       "      <th>RC8</th>\n",
       "      <th>RC9</th>\n",
       "      <th>RC10</th>\n",
       "      <th>RC11</th>\n",
       "      <th>RC12</th>\n",
       "      <th>RC13</th>\n",
       "      <th>RC14</th>\n",
       "      <th>RC15</th>\n",
       "      <th>RC16</th>\n",
       "      <th>RC17</th>\n",
       "    </tr>\n",
       "  </thead>\n",
       "  <tbody>\n",
       "    <tr>\n",
       "      <th>0</th>\n",
       "      <td>BANDUNDU</td>\n",
       "      <td>230</td>\n",
       "      <td>280</td>\n",
       "      <td>213</td>\n",
       "      <td>265</td>\n",
       "      <td>260</td>\n",
       "      <td>247</td>\n",
       "      <td>252</td>\n",
       "      <td>230</td>\n",
       "      <td>239</td>\n",
       "      <td>236</td>\n",
       "      <td>271</td>\n",
       "    </tr>\n",
       "    <tr>\n",
       "      <th>1</th>\n",
       "      <td>KONGO CENTRAL</td>\n",
       "      <td>243</td>\n",
       "      <td>205</td>\n",
       "      <td>248</td>\n",
       "      <td>203</td>\n",
       "      <td>175</td>\n",
       "      <td>204</td>\n",
       "      <td>207</td>\n",
       "      <td>248</td>\n",
       "      <td>213</td>\n",
       "      <td>229</td>\n",
       "      <td>268</td>\n",
       "    </tr>\n",
       "    <tr>\n",
       "      <th>2</th>\n",
       "      <td>EQUATEUR</td>\n",
       "      <td>288</td>\n",
       "      <td>271</td>\n",
       "      <td>262</td>\n",
       "      <td>231</td>\n",
       "      <td>224</td>\n",
       "      <td>214</td>\n",
       "      <td>189</td>\n",
       "      <td>231</td>\n",
       "      <td>208</td>\n",
       "      <td>231</td>\n",
       "      <td>293</td>\n",
       "    </tr>\n",
       "    <tr>\n",
       "      <th>3</th>\n",
       "      <td>KASAI OCCIDENTAL</td>\n",
       "      <td>320</td>\n",
       "      <td>307</td>\n",
       "      <td>351</td>\n",
       "      <td>358</td>\n",
       "      <td>352</td>\n",
       "      <td>363</td>\n",
       "      <td>332</td>\n",
       "      <td>362</td>\n",
       "      <td>300</td>\n",
       "      <td>313</td>\n",
       "      <td>245</td>\n",
       "    </tr>\n",
       "    <tr>\n",
       "      <th>4</th>\n",
       "      <td>KASAI ORIENTAL</td>\n",
       "      <td>485</td>\n",
       "      <td>500</td>\n",
       "      <td>567</td>\n",
       "      <td>625</td>\n",
       "      <td>468</td>\n",
       "      <td>545</td>\n",
       "      <td>587</td>\n",
       "      <td>613</td>\n",
       "      <td>708</td>\n",
       "      <td>651</td>\n",
       "      <td>843</td>\n",
       "    </tr>\n",
       "  </tbody>\n",
       "</table>\n",
       "</div>"
      ],
      "text/plain": [
       "                 ZS  RC7  RC8  RC9  RC10  RC11  RC12  RC13  RC14  RC15  RC16  \\\n",
       "0          BANDUNDU  230  280  213   265   260   247   252   230   239   236   \n",
       "1     KONGO CENTRAL  243  205  248   203   175   204   207   248   213   229   \n",
       "2          EQUATEUR  288  271  262   231   224   214   189   231   208   231   \n",
       "3  KASAI OCCIDENTAL  320  307  351   358   352   363   332   362   300   313   \n",
       "4    KASAI ORIENTAL  485  500  567   625   468   545   587   613   708   651   \n",
       "\n",
       "   RC17  \n",
       "0   271  \n",
       "1   268  \n",
       "2   293  \n",
       "3   245  \n",
       "4   843  "
      ]
     },
     "execution_count": 5,
     "metadata": {},
     "output_type": "execute_result"
    }
   ],
   "source": [
    "dataRc.head()"
   ]
  },
  {
   "cell_type": "raw",
   "metadata": {},
   "source": [
    "Year, average"
   ]
  },
  {
   "cell_type": "markdown",
   "metadata": {},
   "source": [
    "In this part we will average the cases per year and show the year that has had more cases.\n",
    "\n",
    "Note: here we do not take into account the provinces"
   ]
  },
  {
   "cell_type": "code",
   "execution_count": 6,
   "metadata": {},
   "outputs": [
    {
     "name": "stdout",
     "output_type": "stream",
     "text": [
      "(\"L'ann\\xc3\\xa9e \", '2017', ' pr\\xc3\\xa9sente la moyenne la plus \\xc3\\xa9lev\\xc3\\xa9e qui est de: ', 451.0)\n"
     ]
    }
   ],
   "source": [
    "#Declaration and initialization of variables\n",
    "\n",
    "moyenne=0\n",
    "annee=0\n",
    "c=0\n",
    "c1=0\n",
    "tabMoy = []\n",
    "tabAnn = [] \n",
    "\n",
    "#Method to display the years\n",
    "def monAnne(year):\n",
    "    an = year[2:len(year)]\n",
    "    if int(an)<10:\n",
    "        an=\"200\" + an\n",
    "        \n",
    "    else:\n",
    "        an=\"20\"+an\n",
    "    return an\n",
    "\n",
    "#Loop allowing to browse the columns and calculate the average for each year.\n",
    "for i in dataRc.columns:\n",
    "    if i=='ZS':             #if the column is that of Health zone or province\n",
    "        moyenne=moyenne\n",
    "    else:\n",
    "        b=dataRc[i].mean()\n",
    "        tabAnn.append(monAnne(i))\n",
    "        tabMoy.append(b)\n",
    "        if b>moyenne:\n",
    "            moyenne=b\n",
    "            annee=i\n",
    "    c+=1\n",
    "\n",
    "#display   \n",
    "print(\"L'année \", monAnne(annee), \" présente la moyenne la plus élevée qui est de: \",moyenne)"
   ]
  },
  {
   "cell_type": "code",
   "execution_count": 7,
   "metadata": {},
   "outputs": [
    {
     "name": "stdout",
     "output_type": "stream",
     "text": [
      "    Year  Average\n",
      "0   2007  364.182\n",
      "1   2008  363.909\n",
      "2   2009  398.455\n",
      "3   2010  376.182\n",
      "4   2011  341.909\n",
      "5   2012  361.545\n",
      "6   2013  361.909\n",
      "7   2014  390.727\n",
      "8   2015  394.091\n",
      "9   2016  414.545\n",
      "10  2017      451\n"
     ]
    }
   ],
   "source": [
    "#joint table of the year and its case average\n",
    "tab=[tabAnn,tabMoy]\n",
    "\n",
    "#transformation of this table into dataframe plus transpose\n",
    "df=pd.DataFrame(tab).T\n",
    "df.shape\n",
    "\n",
    "#nomenclature of columns\n",
    "df=df.rename(columns={0:'Year',1:'Average'})\n",
    "print(df)"
   ]
  },
  {
   "cell_type": "code",
   "execution_count": null,
   "metadata": {},
   "outputs": [],
   "source": [
    "#bar graph of years based on averages\n",
    "c1=df.plot(x=0, y=1)\n",
    "c=df.plot(x=0, y=1, kind='bar')\n",
    "plt.xlabel('Year')\n",
    "plt.ylabel('Avarage')\n",
    "plt.show()\n",
    "\n",
    "fig1 = c1.get_figure()\n",
    "fig1 = c1.tight_layout()\n",
    "fig1.savefig(\"PhotoMoyRC1.png\")\n",
    "fig = c.get_figure()\n",
    "fig.tight_layout()\n",
    "fig.savefig(\"PhotoMoyRC.png\")"
   ]
  },
  {
   "cell_type": "raw",
   "metadata": {},
   "source": [
    "Year, Maximum and Province"
   ]
  },
  {
   "cell_type": "markdown",
   "metadata": {},
   "source": [
    "This section allows you to see which province has had many cases. this for each year."
   ]
  },
  {
   "cell_type": "code",
   "execution_count": 15,
   "metadata": {},
   "outputs": [
    {
     "name": "stdout",
     "output_type": "stream",
     "text": [
      "Year:  2007  Max:  1219  Province:  KINSHASA\n",
      " \n",
      "Year:  2008  Max:  1327  Province:  KINSHASA\n",
      " \n",
      "Year:  2009  Max:  1342  Province:  KINSHASA\n",
      " \n",
      "Year:  2010  Max:  1225  Province:  KINSHASA\n",
      " \n",
      "Year:  2011  Max:  1180  Province:  KINSHASA\n",
      " \n",
      "Year:  2012  Max:  1328  Province:  KINSHASA\n",
      " \n",
      "Year:  2013  Max:  1184  Province:  KINSHASA\n",
      " \n",
      "Year:  2014  Max:  1341  Province:  KINSHASA\n",
      " \n",
      "Year:  2015  Max:  1263  Province:  KINSHASA\n",
      " \n",
      "Year:  2016  Max:  1366  Province:  KINSHASA\n",
      " \n",
      "Year:  2017  Max:  1496  Province:  KINSHASA\n",
      " \n"
     ]
    }
   ],
   "source": [
    "#Declaration and initialization of variables\n",
    "\n",
    "maximum=0\n",
    "annee=0\n",
    "tabMoy = []\n",
    "tabAnn = [] \n",
    "MaxProv = dict()\n",
    "\n",
    "#Method to display the years\n",
    "def monAnne(year):\n",
    "    an = year[2:len(year)]\n",
    "    if int(an)<10:\n",
    "        an=\"200\" + an\n",
    "        \n",
    "    else:\n",
    "        an=\"20\"+an\n",
    "    return an\n",
    "\n",
    "for i in dataRc.columns:\n",
    "    if i=='ZS':\n",
    "        maximum=maximum\n",
    "    else:\n",
    "        b=dataRc[i].max()\n",
    "        #print(b)\n",
    "        provIndex=list(dataRc[i]).index(b)\n",
    "        #print(list(dataNc[i]))\n",
    "        \n",
    "        province=dataRc.ZS[provIndex]\n",
    "        #print(provIndex)\n",
    "        \n",
    "        MaxProv[monAnne(i)]=[b,province]\n",
    "        \n",
    "#display\n",
    "for key in MaxProv.keys():\n",
    "    print('Year: ',key, ' Max: ', MaxProv[key][0], ' Province: ' , MaxProv[key][1])\n",
    "    print(\" \")"
   ]
  },
  {
   "cell_type": "code",
   "execution_count": null,
   "metadata": {},
   "outputs": [],
   "source": []
  }
 ],
 "metadata": {
  "kernelspec": {
   "display_name": "Python 2",
   "language": "python",
   "name": "python2"
  },
  "language_info": {
   "codemirror_mode": {
    "name": "ipython",
    "version": 2
   },
   "file_extension": ".py",
   "mimetype": "text/x-python",
   "name": "python",
   "nbconvert_exporter": "python",
   "pygments_lexer": "ipython2",
   "version": "2.7.10"
  }
 },
 "nbformat": 4,
 "nbformat_minor": 2
}
