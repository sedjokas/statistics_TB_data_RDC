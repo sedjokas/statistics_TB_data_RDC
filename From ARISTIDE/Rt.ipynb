{
 "cells": [
  {
   "cell_type": "markdown",
   "metadata": {},
   "source": [
    "# RT"
   ]
  },
  {
   "cell_type": "code",
   "execution_count": 1,
   "metadata": {},
   "outputs": [],
   "source": [
    "#import libraries\n",
    "\n",
    "import numpy as np\n",
    "import pandas as pd\n",
    "import matplotlib.pyplot as plt\n",
    "from pandas import ExcelWriter\n",
    "from pandas import ExcelFile\n",
    "#import statsmodels.stats.weightstats as stat\n",
    "#from statsmodels.formula.api import ols\n",
    "import scipy as sp\n",
    "from scipy import stats as stat"
   ]
  },
  {
   "cell_type": "code",
   "execution_count": 2,
   "metadata": {},
   "outputs": [
    {
     "data": {
      "text/plain": [
       "(11, 12)"
      ]
     },
     "execution_count": 2,
     "metadata": {},
     "output_type": "execute_result"
    }
   ],
   "source": [
    "dataRt = pd.read_excel('DataRt.xlsx' , sep = '\\t')\n",
    "dataRt.shape"
   ]
  },
  {
   "cell_type": "code",
   "execution_count": 3,
   "metadata": {},
   "outputs": [
    {
     "data": {
      "text/html": [
       "<div>\n",
       "<style scoped>\n",
       "    .dataframe tbody tr th:only-of-type {\n",
       "        vertical-align: middle;\n",
       "    }\n",
       "\n",
       "    .dataframe tbody tr th {\n",
       "        vertical-align: top;\n",
       "    }\n",
       "\n",
       "    .dataframe thead th {\n",
       "        text-align: right;\n",
       "    }\n",
       "</style>\n",
       "<table border=\"1\" class=\"dataframe\">\n",
       "  <thead>\n",
       "    <tr style=\"text-align: right;\">\n",
       "      <th></th>\n",
       "      <th>ZS</th>\n",
       "      <th>RT7</th>\n",
       "      <th>RT8</th>\n",
       "      <th>RT9</th>\n",
       "      <th>RT10</th>\n",
       "      <th>RT11</th>\n",
       "      <th>RT12</th>\n",
       "      <th>RT13</th>\n",
       "      <th>RT14</th>\n",
       "      <th>RT15</th>\n",
       "      <th>RT16</th>\n",
       "      <th>RT17</th>\n",
       "    </tr>\n",
       "  </thead>\n",
       "  <tbody>\n",
       "    <tr>\n",
       "      <th>0</th>\n",
       "      <td>BANDUNDU</td>\n",
       "      <td>47</td>\n",
       "      <td>18</td>\n",
       "      <td>27</td>\n",
       "      <td>19</td>\n",
       "      <td>13</td>\n",
       "      <td>23</td>\n",
       "      <td>29</td>\n",
       "      <td>21</td>\n",
       "      <td>28</td>\n",
       "      <td>8</td>\n",
       "      <td>7</td>\n",
       "    </tr>\n",
       "    <tr>\n",
       "      <th>1</th>\n",
       "      <td>KONGO CENTRAL</td>\n",
       "      <td>50</td>\n",
       "      <td>41</td>\n",
       "      <td>33</td>\n",
       "      <td>24</td>\n",
       "      <td>20</td>\n",
       "      <td>19</td>\n",
       "      <td>18</td>\n",
       "      <td>20</td>\n",
       "      <td>20</td>\n",
       "      <td>29</td>\n",
       "      <td>23</td>\n",
       "    </tr>\n",
       "    <tr>\n",
       "      <th>2</th>\n",
       "      <td>EQUATEUR</td>\n",
       "      <td>69</td>\n",
       "      <td>60</td>\n",
       "      <td>80</td>\n",
       "      <td>67</td>\n",
       "      <td>72</td>\n",
       "      <td>52</td>\n",
       "      <td>44</td>\n",
       "      <td>45</td>\n",
       "      <td>45</td>\n",
       "      <td>29</td>\n",
       "      <td>12</td>\n",
       "    </tr>\n",
       "    <tr>\n",
       "      <th>3</th>\n",
       "      <td>KASAI OCCIDENTAL</td>\n",
       "      <td>69</td>\n",
       "      <td>66</td>\n",
       "      <td>51</td>\n",
       "      <td>43</td>\n",
       "      <td>32</td>\n",
       "      <td>38</td>\n",
       "      <td>40</td>\n",
       "      <td>42</td>\n",
       "      <td>23</td>\n",
       "      <td>5</td>\n",
       "      <td>0</td>\n",
       "    </tr>\n",
       "    <tr>\n",
       "      <th>4</th>\n",
       "      <td>KASAI ORIENTAL</td>\n",
       "      <td>148</td>\n",
       "      <td>140</td>\n",
       "      <td>139</td>\n",
       "      <td>155</td>\n",
       "      <td>93</td>\n",
       "      <td>97</td>\n",
       "      <td>65</td>\n",
       "      <td>59</td>\n",
       "      <td>79</td>\n",
       "      <td>35</td>\n",
       "      <td>21</td>\n",
       "    </tr>\n",
       "  </tbody>\n",
       "</table>\n",
       "</div>"
      ],
      "text/plain": [
       "                 ZS  RT7  RT8  RT9  RT10  RT11  RT12  RT13  RT14  RT15  RT16  \\\n",
       "0          BANDUNDU   47   18   27    19    13    23    29    21    28     8   \n",
       "1     KONGO CENTRAL   50   41   33    24    20    19    18    20    20    29   \n",
       "2          EQUATEUR   69   60   80    67    72    52    44    45    45    29   \n",
       "3  KASAI OCCIDENTAL   69   66   51    43    32    38    40    42    23     5   \n",
       "4    KASAI ORIENTAL  148  140  139   155    93    97    65    59    79    35   \n",
       "\n",
       "   RT17  \n",
       "0     7  \n",
       "1    23  \n",
       "2    12  \n",
       "3     0  \n",
       "4    21  "
      ]
     },
     "execution_count": 3,
     "metadata": {},
     "output_type": "execute_result"
    }
   ],
   "source": [
    "dataRt.head()"
   ]
  },
  {
   "cell_type": "raw",
   "metadata": {},
   "source": [
    "Year, average"
   ]
  },
  {
   "cell_type": "markdown",
   "metadata": {},
   "source": [
    "In this part we will average the cases per year and show the year that has had more cases.\n",
    "\n",
    "Note: here we do not take into account the provinces"
   ]
  },
  {
   "cell_type": "code",
   "execution_count": 4,
   "metadata": {},
   "outputs": [
    {
     "name": "stdout",
     "output_type": "stream",
     "text": [
      "('Year', '2007', ' the hight average is: ', 83.727272727272734)\n"
     ]
    }
   ],
   "source": [
    "#Declaration and initialization of variables\n",
    "moyenne=0\n",
    "annee=0\n",
    "c=0\n",
    "c1=0\n",
    "tabMoy = []\n",
    "tabAnn = [] \n",
    "\n",
    "#Method to display the years\n",
    "def monAnne(year):\n",
    "    an = year[2:len(year)]\n",
    "    if int(an)<10:\n",
    "        an=\"200\" + an\n",
    "        \n",
    "    else:\n",
    "        an=\"20\"+an\n",
    "    return an\n",
    "\n",
    "#Loop allowing to browse the columns and calculate the average for each year.\n",
    "for i in dataRt.columns:\n",
    "    if i=='ZS':            #if the column is that of Health zone or province\n",
    "        moyenne=moyenne\n",
    "    else:\n",
    "        b=dataRt[i].mean()\n",
    "        tabAnn.append(monAnne(i))\n",
    "        tabMoy.append(b)\n",
    "        if b>moyenne:\n",
    "            moyenne=b\n",
    "            annee=i\n",
    "    c+=1\n",
    "\n",
    "#display\n",
    "print(\"Year\", monAnne(annee), \" the hight average is: \",moyenne)"
   ]
  },
  {
   "cell_type": "code",
   "execution_count": 5,
   "metadata": {},
   "outputs": [
    {
     "name": "stdout",
     "output_type": "stream",
     "text": [
      "    Year  Average\n",
      "0   2007  83.7273\n",
      "1   2008  70.2727\n",
      "2   2009  71.1818\n",
      "3   2010  72.3636\n",
      "4   2011  53.3636\n",
      "5   2012  54.2727\n",
      "6   2013  54.1818\n",
      "7   2014  54.0909\n",
      "8   2015  49.7273\n",
      "9   2016  33.9091\n",
      "10  2017  35.1818\n"
     ]
    }
   ],
   "source": [
    "#joint table of the year and its case average\n",
    "tab=[tabAnn,tabMoy]\n",
    "\n",
    "#transformation of this table into dataframe plus transpose\n",
    "df=pd.DataFrame(tab).T\n",
    "df.shape\n",
    "\n",
    "#nomenclature of columns\n",
    "df=df.rename(columns={0:'Year',1:'Average'})\n",
    "print(df)"
   ]
  },
  {
   "cell_type": "code",
   "execution_count": 6,
   "metadata": {},
   "outputs": [],
   "source": [
    "#bar graph of years based on averages\n",
    "c1=df.plot(x=0, y=1)\n",
    "c=df.plot(x=0, y=1, kind='bar')\n",
    "plt.xlabel('Year')\n",
    "plt.ylabel('Average')\n",
    "plt.show()\n",
    "\n",
    "fig1 = c1.get_figure()\n",
    "fig1.tight_layout()\n",
    "fig1.savefig(\"PhotoMoyRt.png\")\n",
    "\n",
    "fig = c.get_figure()\n",
    "fig.tight_layout()\n",
    "fig.savefig(\"PhotoMoyRt.png\")"
   ]
  },
  {
   "cell_type": "raw",
   "metadata": {},
   "source": [
    "Year, Maximum and Province"
   ]
  },
  {
   "cell_type": "markdown",
   "metadata": {},
   "source": [
    "This section allows you to see which province has had many cases. \n",
    "this for each year."
   ]
  },
  {
   "cell_type": "code",
   "execution_count": 12,
   "metadata": {},
   "outputs": [
    {
     "name": "stdout",
     "output_type": "stream",
     "text": [
      "Year:  2007  Max:  167  Province:  PROVINCE ORIENTAL\n",
      " \n",
      "Year:  2008  Max:  140  Province:  KASAI ORIENTAL\n",
      " \n",
      "Year:  2009  Max:  139  Province:  KASAI ORIENTAL\n",
      " \n",
      "Year:  2010  Max:  198  Province:  PROVINCE ORIENTAL\n",
      " \n",
      "Year:  2011  Max:  140  Province:  PROVINCE ORIENTAL\n",
      " \n",
      "Year:  2012  Max:  131  Province:  PROVINCE ORIENTAL\n",
      " \n",
      "Year:  2013  Max:  109  Province:  KATANGA\n",
      " \n",
      "Year:  2014  Max:  116  Province:  PROVINCE ORIENTAL\n",
      " \n",
      "Year:  2015  Max:  91  Province:  PROVINCE ORIENTAL\n",
      " \n",
      "Year:  2016  Max:  155  Province:  KATANGA\n",
      " \n",
      "Year:  2017  Max:  131  Province:  KATANGA\n",
      " \n"
     ]
    }
   ],
   "source": [
    "#Declaration and initialization of variables\n",
    "maximum=0\n",
    "annee=0\n",
    "tabMoy = []\n",
    "tabAnn = [] \n",
    "MaxProv = dict()\n",
    "\n",
    "#Method to display the years\n",
    "def monAnne(year):\n",
    "    an = year[2:len(year)]\n",
    "    if int(an)<10:\n",
    "        an=\"200\" + an\n",
    "        \n",
    "    else:\n",
    "        an=\"20\"+an\n",
    "    return an\n",
    "\n",
    "for i in dataRt.columns:\n",
    "    if i=='ZS':\n",
    "        maximum=maximum\n",
    "    else:\n",
    "        b=dataRt[i].max()\n",
    "        #print(b)\n",
    "        provIndex=list(dataRt[i]).index(b)\n",
    "        #print(list(dataNc[i]))\n",
    "        \n",
    "        province=dataRt.ZS[provIndex]\n",
    "        #print(provIndex)\n",
    "        \n",
    "        MaxProv[monAnne(i)]=[b,province]\n",
    "        \n",
    "\n",
    "for key in MaxProv.keys():\n",
    "    print('Year: ',key, ' Max: ', MaxProv[key][0], ' Province: ' , MaxProv[key][1])\n",
    "    print(\" \")"
   ]
  },
  {
   "cell_type": "code",
   "execution_count": null,
   "metadata": {},
   "outputs": [],
   "source": []
  }
 ],
 "metadata": {
  "kernelspec": {
   "display_name": "Python 2",
   "language": "python",
   "name": "python2"
  },
  "language_info": {
   "codemirror_mode": {
    "name": "ipython",
    "version": 2
   },
   "file_extension": ".py",
   "mimetype": "text/x-python",
   "name": "python",
   "nbconvert_exporter": "python",
   "pygments_lexer": "ipython2",
   "version": "2.7.10"
  }
 },
 "nbformat": 4,
 "nbformat_minor": 2
}
